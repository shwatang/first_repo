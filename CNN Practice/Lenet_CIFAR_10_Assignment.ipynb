{
  "nbformat": 4,
  "nbformat_minor": 0,
  "metadata": {
    "colab": {
      "name": "Lenet CIFAR 10 Assignment.ipynb",
      "provenance": [],
      "collapsed_sections": []
    },
    "kernelspec": {
      "name": "python3",
      "display_name": "Python 3"
    },
    "accelerator": "GPU"
  },
  "cells": [
    {
      "cell_type": "code",
      "metadata": {
        "id": "kDxN_UWOZsP8",
        "colab_type": "code",
        "outputId": "78c02071-5327-48a5-dc60-f68756ab03e5",
        "colab": {
          "base_uri": "https://localhost:8080/",
          "height": 34
        }
      },
      "source": [
        "import tensorflow as tf\n",
        "import pandas as pd\n",
        "import numpy as np\n",
        "from keras.models import Sequential, load_model\n",
        "from keras.layers import Conv2D, Dense, BatchNormalization, Dropout, Flatten, AveragePooling2D\n",
        "from keras import regularizers\n",
        "from keras.utils.np_utils import to_categorical\n",
        "from keras.datasets import cifar10\n",
        "import matplotlib.pyplot as plt"
      ],
      "execution_count": 0,
      "outputs": [
        {
          "output_type": "stream",
          "text": [
            "Using TensorFlow backend.\n"
          ],
          "name": "stderr"
        }
      ]
    },
    {
      "cell_type": "code",
      "metadata": {
        "id": "A-IsY4a-ZsQB",
        "colab_type": "code",
        "colab": {}
      },
      "source": [
        "(x_train, y_train),(x_test, y_test)= cifar10.load_data()\n",
        "y_train = to_categorical(y_train, num_classes = 10)\n",
        "y_test = to_categorical(y_test, num_classes = 10)"
      ],
      "execution_count": 0,
      "outputs": []
    },
    {
      "cell_type": "code",
      "metadata": {
        "id": "Cb_rnxR-ZsQE",
        "colab_type": "code",
        "outputId": "d7ebd82b-733e-4dd5-8ebc-ce9345d67c82",
        "colab": {
          "base_uri": "https://localhost:8080/",
          "height": 87
        }
      },
      "source": [
        "my_cnn = Sequential()\n",
        "my_cnn.add(Conv2D(6,(5,5), input_shape=(32,32,3),strides=(1,1), padding='valid', data_format='channels_last', activation='tanh', use_bias=True))\n",
        "my_cnn.add(AveragePooling2D(pool_size=(2,2),strides=(2,2)))\n",
        "my_cnn.add(Conv2D(16,(5,5), strides=(1,1), padding='valid', data_format='channels_last', activation='tanh', use_bias=True))\n",
        "my_cnn.add(AveragePooling2D(pool_size=(2,2),strides=(2,2)))\n",
        "my_cnn.add(Conv2D(120,(5,5), strides=(1,1), padding='valid', data_format='channels_last', activation='tanh', use_bias=True))\n",
        "my_cnn.add(Flatten())\n",
        "my_cnn.add(Dense(84, activation='tanh', use_bias=True))\n",
        "my_cnn.add(Dense(10, activation='softmax'))"
      ],
      "execution_count": 0,
      "outputs": [
        {
          "output_type": "stream",
          "text": [
            "WARNING:tensorflow:From /usr/local/lib/python3.6/dist-packages/tensorflow/python/framework/op_def_library.py:263: colocate_with (from tensorflow.python.framework.ops) is deprecated and will be removed in a future version.\n",
            "Instructions for updating:\n",
            "Colocations handled automatically by placer.\n"
          ],
          "name": "stdout"
        }
      ]
    },
    {
      "cell_type": "code",
      "metadata": {
        "id": "g9oJ3Jz2ZsQI",
        "colab_type": "code",
        "outputId": "dcc35a7b-b218-43fc-abbb-5a450fa3cc5b",
        "colab": {
          "base_uri": "https://localhost:8080/",
          "height": 403
        }
      },
      "source": [
        "my_cnn.summary()"
      ],
      "execution_count": 0,
      "outputs": [
        {
          "output_type": "stream",
          "text": [
            "_________________________________________________________________\n",
            "Layer (type)                 Output Shape              Param #   \n",
            "=================================================================\n",
            "conv2d_1 (Conv2D)            (None, 28, 28, 6)         456       \n",
            "_________________________________________________________________\n",
            "average_pooling2d_1 (Average (None, 14, 14, 6)         0         \n",
            "_________________________________________________________________\n",
            "conv2d_2 (Conv2D)            (None, 10, 10, 16)        2416      \n",
            "_________________________________________________________________\n",
            "average_pooling2d_2 (Average (None, 5, 5, 16)          0         \n",
            "_________________________________________________________________\n",
            "conv2d_3 (Conv2D)            (None, 1, 1, 120)         48120     \n",
            "_________________________________________________________________\n",
            "flatten_1 (Flatten)          (None, 120)               0         \n",
            "_________________________________________________________________\n",
            "dense_1 (Dense)              (None, 84)                10164     \n",
            "_________________________________________________________________\n",
            "dense_2 (Dense)              (None, 10)                850       \n",
            "=================================================================\n",
            "Total params: 62,006\n",
            "Trainable params: 62,006\n",
            "Non-trainable params: 0\n",
            "_________________________________________________________________\n"
          ],
          "name": "stdout"
        }
      ]
    },
    {
      "cell_type": "code",
      "metadata": {
        "id": "NGalva20ZsQM",
        "colab_type": "code",
        "colab": {}
      },
      "source": [
        "my_cnn.compile(loss='categorical_crossentropy', optimizer='adam',metrics=['categorical_accuracy'])"
      ],
      "execution_count": 0,
      "outputs": []
    },
    {
      "cell_type": "code",
      "metadata": {
        "id": "DlbNLpn0ZsQP",
        "colab_type": "code",
        "outputId": "2d8b23dc-5440-4d66-b4b3-80ddf10e2789",
        "colab": {
          "base_uri": "https://localhost:8080/",
          "height": 1784
        }
      },
      "source": [
        "history=my_cnn.fit(x=x_train, y=y_train, validation_split=(0.2), batch_size=200, epochs=50, verbose=1)"
      ],
      "execution_count": 0,
      "outputs": [
        {
          "output_type": "stream",
          "text": [
            "WARNING:tensorflow:From /usr/local/lib/python3.6/dist-packages/tensorflow/python/ops/math_ops.py:3066: to_int32 (from tensorflow.python.ops.math_ops) is deprecated and will be removed in a future version.\n",
            "Instructions for updating:\n",
            "Use tf.cast instead.\n",
            "Train on 40000 samples, validate on 10000 samples\n",
            "Epoch 1/50\n",
            "40000/40000 [==============================] - 5s 116us/step - loss: 1.7143 - categorical_accuracy: 0.3877 - val_loss: 1.5904 - val_categorical_accuracy: 0.4321\n",
            "Epoch 2/50\n",
            "40000/40000 [==============================] - 3s 73us/step - loss: 1.5153 - categorical_accuracy: 0.4577 - val_loss: 1.4816 - val_categorical_accuracy: 0.4608\n",
            "Epoch 3/50\n",
            "40000/40000 [==============================] - 3s 72us/step - loss: 1.4282 - categorical_accuracy: 0.4906 - val_loss: 1.4280 - val_categorical_accuracy: 0.4931\n",
            "Epoch 4/50\n",
            "40000/40000 [==============================] - 3s 73us/step - loss: 1.3714 - categorical_accuracy: 0.5131 - val_loss: 1.4460 - val_categorical_accuracy: 0.4942\n",
            "Epoch 5/50\n",
            "40000/40000 [==============================] - 3s 72us/step - loss: 1.3166 - categorical_accuracy: 0.5340 - val_loss: 1.3390 - val_categorical_accuracy: 0.5181\n",
            "Epoch 6/50\n",
            "40000/40000 [==============================] - 3s 73us/step - loss: 1.2757 - categorical_accuracy: 0.5518 - val_loss: 1.3224 - val_categorical_accuracy: 0.5302\n",
            "Epoch 7/50\n",
            "40000/40000 [==============================] - 3s 72us/step - loss: 1.2302 - categorical_accuracy: 0.5653 - val_loss: 1.2929 - val_categorical_accuracy: 0.5385\n",
            "Epoch 8/50\n",
            "40000/40000 [==============================] - 3s 72us/step - loss: 1.1981 - categorical_accuracy: 0.5756 - val_loss: 1.2886 - val_categorical_accuracy: 0.5470\n",
            "Epoch 9/50\n",
            "40000/40000 [==============================] - 3s 73us/step - loss: 1.1708 - categorical_accuracy: 0.5854 - val_loss: 1.2930 - val_categorical_accuracy: 0.5422\n",
            "Epoch 10/50\n",
            "40000/40000 [==============================] - 3s 74us/step - loss: 1.1381 - categorical_accuracy: 0.5979 - val_loss: 1.2682 - val_categorical_accuracy: 0.5508\n",
            "Epoch 11/50\n",
            "40000/40000 [==============================] - 3s 73us/step - loss: 1.1018 - categorical_accuracy: 0.6117 - val_loss: 1.2682 - val_categorical_accuracy: 0.5557\n",
            "Epoch 12/50\n",
            "40000/40000 [==============================] - 3s 74us/step - loss: 1.0733 - categorical_accuracy: 0.6225 - val_loss: 1.2476 - val_categorical_accuracy: 0.5626\n",
            "Epoch 13/50\n",
            "40000/40000 [==============================] - 3s 71us/step - loss: 1.0462 - categorical_accuracy: 0.6333 - val_loss: 1.2943 - val_categorical_accuracy: 0.5439\n",
            "Epoch 14/50\n",
            "40000/40000 [==============================] - 3s 72us/step - loss: 1.0281 - categorical_accuracy: 0.6403 - val_loss: 1.2381 - val_categorical_accuracy: 0.5642\n",
            "Epoch 15/50\n",
            "40000/40000 [==============================] - 3s 73us/step - loss: 1.0003 - categorical_accuracy: 0.6488 - val_loss: 1.2520 - val_categorical_accuracy: 0.5626\n",
            "Epoch 16/50\n",
            "40000/40000 [==============================] - 3s 73us/step - loss: 0.9724 - categorical_accuracy: 0.6589 - val_loss: 1.2300 - val_categorical_accuracy: 0.5724\n",
            "Epoch 17/50\n",
            "40000/40000 [==============================] - 3s 72us/step - loss: 0.9546 - categorical_accuracy: 0.6645 - val_loss: 1.2945 - val_categorical_accuracy: 0.5560\n",
            "Epoch 18/50\n",
            "40000/40000 [==============================] - 3s 73us/step - loss: 0.9352 - categorical_accuracy: 0.6724 - val_loss: 1.2426 - val_categorical_accuracy: 0.5735\n",
            "Epoch 19/50\n",
            "40000/40000 [==============================] - 3s 73us/step - loss: 0.9010 - categorical_accuracy: 0.6845 - val_loss: 1.2692 - val_categorical_accuracy: 0.5684\n",
            "Epoch 20/50\n",
            "40000/40000 [==============================] - 3s 72us/step - loss: 0.8750 - categorical_accuracy: 0.6931 - val_loss: 1.2653 - val_categorical_accuracy: 0.5687\n",
            "Epoch 21/50\n",
            "40000/40000 [==============================] - 3s 73us/step - loss: 0.8635 - categorical_accuracy: 0.6996 - val_loss: 1.2854 - val_categorical_accuracy: 0.5662\n",
            "Epoch 22/50\n",
            "40000/40000 [==============================] - 3s 72us/step - loss: 0.8402 - categorical_accuracy: 0.7082 - val_loss: 1.2881 - val_categorical_accuracy: 0.5670\n",
            "Epoch 23/50\n",
            "40000/40000 [==============================] - 3s 73us/step - loss: 0.8212 - categorical_accuracy: 0.7146 - val_loss: 1.2913 - val_categorical_accuracy: 0.5694\n",
            "Epoch 24/50\n",
            "40000/40000 [==============================] - 3s 73us/step - loss: 0.8142 - categorical_accuracy: 0.7150 - val_loss: 1.2895 - val_categorical_accuracy: 0.5750\n",
            "Epoch 25/50\n",
            "40000/40000 [==============================] - 3s 73us/step - loss: 0.7912 - categorical_accuracy: 0.7229 - val_loss: 1.3499 - val_categorical_accuracy: 0.5619\n",
            "Epoch 26/50\n",
            "40000/40000 [==============================] - 3s 72us/step - loss: 0.7746 - categorical_accuracy: 0.7319 - val_loss: 1.3166 - val_categorical_accuracy: 0.5696\n",
            "Epoch 27/50\n",
            "40000/40000 [==============================] - 3s 72us/step - loss: 0.7431 - categorical_accuracy: 0.7413 - val_loss: 1.3683 - val_categorical_accuracy: 0.5565\n",
            "Epoch 28/50\n",
            "40000/40000 [==============================] - 3s 72us/step - loss: 0.7299 - categorical_accuracy: 0.7468 - val_loss: 1.3571 - val_categorical_accuracy: 0.5637\n",
            "Epoch 29/50\n",
            "40000/40000 [==============================] - 3s 73us/step - loss: 0.6995 - categorical_accuracy: 0.7549 - val_loss: 1.3756 - val_categorical_accuracy: 0.5611\n",
            "Epoch 30/50\n",
            "40000/40000 [==============================] - 3s 73us/step - loss: 0.7009 - categorical_accuracy: 0.7574 - val_loss: 1.3915 - val_categorical_accuracy: 0.5557\n",
            "Epoch 31/50\n",
            "40000/40000 [==============================] - 3s 72us/step - loss: 0.6867 - categorical_accuracy: 0.7611 - val_loss: 1.4216 - val_categorical_accuracy: 0.5546\n",
            "Epoch 32/50\n",
            "40000/40000 [==============================] - 3s 73us/step - loss: 0.6664 - categorical_accuracy: 0.7697 - val_loss: 1.4477 - val_categorical_accuracy: 0.5535\n",
            "Epoch 33/50\n",
            "40000/40000 [==============================] - 3s 72us/step - loss: 0.6506 - categorical_accuracy: 0.7750 - val_loss: 1.4570 - val_categorical_accuracy: 0.5527\n",
            "Epoch 34/50\n",
            "40000/40000 [==============================] - 3s 73us/step - loss: 0.6310 - categorical_accuracy: 0.7809 - val_loss: 1.4669 - val_categorical_accuracy: 0.5523\n",
            "Epoch 35/50\n",
            "40000/40000 [==============================] - 3s 73us/step - loss: 0.6057 - categorical_accuracy: 0.7919 - val_loss: 1.4850 - val_categorical_accuracy: 0.5540\n",
            "Epoch 36/50\n",
            "40000/40000 [==============================] - 3s 72us/step - loss: 0.5959 - categorical_accuracy: 0.7955 - val_loss: 1.4944 - val_categorical_accuracy: 0.5535\n",
            "Epoch 37/50\n",
            "40000/40000 [==============================] - 3s 72us/step - loss: 0.5756 - categorical_accuracy: 0.8040 - val_loss: 1.5323 - val_categorical_accuracy: 0.5482\n",
            "Epoch 38/50\n",
            "40000/40000 [==============================] - 3s 72us/step - loss: 0.5701 - categorical_accuracy: 0.8034 - val_loss: 1.5343 - val_categorical_accuracy: 0.5520\n",
            "Epoch 39/50\n",
            "40000/40000 [==============================] - 3s 73us/step - loss: 0.5512 - categorical_accuracy: 0.8105 - val_loss: 1.5666 - val_categorical_accuracy: 0.5473\n",
            "Epoch 40/50\n",
            "40000/40000 [==============================] - 3s 73us/step - loss: 0.5460 - categorical_accuracy: 0.8119 - val_loss: 1.6251 - val_categorical_accuracy: 0.5402\n",
            "Epoch 41/50\n",
            "40000/40000 [==============================] - 3s 73us/step - loss: 0.5236 - categorical_accuracy: 0.8202 - val_loss: 1.6100 - val_categorical_accuracy: 0.5461\n",
            "Epoch 42/50\n",
            "40000/40000 [==============================] - 3s 73us/step - loss: 0.5207 - categorical_accuracy: 0.8222 - val_loss: 1.6414 - val_categorical_accuracy: 0.5423\n",
            "Epoch 43/50\n",
            "40000/40000 [==============================] - 3s 72us/step - loss: 0.5085 - categorical_accuracy: 0.8248 - val_loss: 1.6417 - val_categorical_accuracy: 0.5418\n",
            "Epoch 44/50\n",
            "40000/40000 [==============================] - 3s 72us/step - loss: 0.4844 - categorical_accuracy: 0.8360 - val_loss: 1.6665 - val_categorical_accuracy: 0.5426\n",
            "Epoch 45/50\n",
            "40000/40000 [==============================] - 3s 72us/step - loss: 0.4915 - categorical_accuracy: 0.8298 - val_loss: 1.7436 - val_categorical_accuracy: 0.5415\n",
            "Epoch 46/50\n",
            "40000/40000 [==============================] - 3s 72us/step - loss: 0.4609 - categorical_accuracy: 0.8430 - val_loss: 1.7309 - val_categorical_accuracy: 0.5397\n",
            "Epoch 47/50\n",
            "40000/40000 [==============================] - 3s 73us/step - loss: 0.4362 - categorical_accuracy: 0.8534 - val_loss: 1.7629 - val_categorical_accuracy: 0.5356\n",
            "Epoch 48/50\n",
            "40000/40000 [==============================] - 3s 72us/step - loss: 0.4483 - categorical_accuracy: 0.8476 - val_loss: 1.7764 - val_categorical_accuracy: 0.5405\n",
            "Epoch 49/50\n",
            "40000/40000 [==============================] - 3s 72us/step - loss: 0.4377 - categorical_accuracy: 0.8514 - val_loss: 1.8356 - val_categorical_accuracy: 0.5339\n",
            "Epoch 50/50\n",
            "40000/40000 [==============================] - 3s 71us/step - loss: 0.4277 - categorical_accuracy: 0.8553 - val_loss: 1.8092 - val_categorical_accuracy: 0.5361\n"
          ],
          "name": "stdout"
        }
      ]
    },
    {
      "cell_type": "code",
      "metadata": {
        "id": "dGcWdRUyZsQU",
        "colab_type": "code",
        "outputId": "33c8cf8d-52e9-471c-e85e-e19ed6db5ad3",
        "colab": {
          "base_uri": "https://localhost:8080/",
          "height": 34
        }
      },
      "source": [
        "simple_test_loss, simple_test_accuracy=my_cnn.evaluate(x=x_test, y=y_test, batch_size=200)"
      ],
      "execution_count": 0,
      "outputs": [
        {
          "output_type": "stream",
          "text": [
            "10000/10000 [==============================] - 0s 30us/step\n"
          ],
          "name": "stdout"
        }
      ]
    },
    {
      "cell_type": "code",
      "metadata": {
        "id": "CVb4qJ90qROh",
        "colab_type": "code",
        "outputId": "fc74f48f-56e9-43e0-c0b4-2585c1481eb7",
        "colab": {
          "base_uri": "https://localhost:8080/",
          "height": 87
        }
      },
      "source": [
        "my_cnn_dropout_batchnormalization = Sequential()\n",
        "my_cnn_dropout_batchnormalization.add(Conv2D(6,(5,5), input_shape=(32,32,3),strides=(1,1), padding='valid', data_format='channels_last', activation='relu', kernel_regularizer=regularizers.l2(0.01), use_bias=True))\n",
        "my_cnn_dropout_batchnormalization.add(AveragePooling2D(pool_size=(2,2),strides=(2,2)))\n",
        "my_cnn_dropout_batchnormalization.add(BatchNormalization())\n",
        "my_cnn_dropout_batchnormalization.add(Dropout(0.3))\n",
        "my_cnn_dropout_batchnormalization.add(Conv2D(16,(5,5), strides=(1,1), padding='valid', data_format='channels_last', activation='relu', kernel_regularizer=regularizers.l2(0.01), use_bias=True))\n",
        "my_cnn_dropout_batchnormalization.add(AveragePooling2D(pool_size=(2,2),strides=(2,2)))\n",
        "my_cnn_dropout_batchnormalization.add(BatchNormalization())\n",
        "my_cnn_dropout_batchnormalization.add(Dropout(0.3))\n",
        "my_cnn_dropout_batchnormalization.add(Conv2D(120,(5,5), strides=(1,1), padding='valid', data_format='channels_last', activation='relu', kernel_regularizer=regularizers.l2(0.01), use_bias=True))\n",
        "my_cnn_dropout_batchnormalization.add(BatchNormalization())\n",
        "my_cnn_dropout_batchnormalization.add(Dropout(0.3))\n",
        "my_cnn_dropout_batchnormalization.add(Flatten())\n",
        "my_cnn_dropout_batchnormalization.add(Dense(84, activation='relu', kernel_regularizer=regularizers.l2(0.01), use_bias=True))\n",
        "my_cnn_dropout_batchnormalization.add(BatchNormalization())\n",
        "my_cnn_dropout_batchnormalization.add(Dense(10, activation='softmax'))"
      ],
      "execution_count": 0,
      "outputs": [
        {
          "output_type": "stream",
          "text": [
            "WARNING:tensorflow:From /usr/local/lib/python3.6/dist-packages/keras/backend/tensorflow_backend.py:3445: calling dropout (from tensorflow.python.ops.nn_ops) with keep_prob is deprecated and will be removed in a future version.\n",
            "Instructions for updating:\n",
            "Please use `rate` instead of `keep_prob`. Rate should be set to `rate = 1 - keep_prob`.\n"
          ],
          "name": "stdout"
        }
      ]
    },
    {
      "cell_type": "code",
      "metadata": {
        "id": "-j_zpgvOy9St",
        "colab_type": "code",
        "outputId": "4c4e1f8b-a75c-4ece-f819-85eacab30f3c",
        "colab": {
          "base_uri": "https://localhost:8080/",
          "height": 638
        }
      },
      "source": [
        "my_cnn_dropout_batchnormalization.summary()"
      ],
      "execution_count": 0,
      "outputs": [
        {
          "output_type": "stream",
          "text": [
            "_________________________________________________________________\n",
            "Layer (type)                 Output Shape              Param #   \n",
            "=================================================================\n",
            "conv2d_4 (Conv2D)            (None, 28, 28, 6)         456       \n",
            "_________________________________________________________________\n",
            "average_pooling2d_3 (Average (None, 14, 14, 6)         0         \n",
            "_________________________________________________________________\n",
            "batch_normalization_1 (Batch (None, 14, 14, 6)         24        \n",
            "_________________________________________________________________\n",
            "dropout_1 (Dropout)          (None, 14, 14, 6)         0         \n",
            "_________________________________________________________________\n",
            "conv2d_5 (Conv2D)            (None, 10, 10, 16)        2416      \n",
            "_________________________________________________________________\n",
            "average_pooling2d_4 (Average (None, 5, 5, 16)          0         \n",
            "_________________________________________________________________\n",
            "batch_normalization_2 (Batch (None, 5, 5, 16)          64        \n",
            "_________________________________________________________________\n",
            "dropout_2 (Dropout)          (None, 5, 5, 16)          0         \n",
            "_________________________________________________________________\n",
            "conv2d_6 (Conv2D)            (None, 1, 1, 120)         48120     \n",
            "_________________________________________________________________\n",
            "batch_normalization_3 (Batch (None, 1, 1, 120)         480       \n",
            "_________________________________________________________________\n",
            "dropout_3 (Dropout)          (None, 1, 1, 120)         0         \n",
            "_________________________________________________________________\n",
            "flatten_2 (Flatten)          (None, 120)               0         \n",
            "_________________________________________________________________\n",
            "dense_3 (Dense)              (None, 84)                10164     \n",
            "_________________________________________________________________\n",
            "batch_normalization_4 (Batch (None, 84)                336       \n",
            "_________________________________________________________________\n",
            "dense_4 (Dense)              (None, 10)                850       \n",
            "=================================================================\n",
            "Total params: 62,910\n",
            "Trainable params: 62,458\n",
            "Non-trainable params: 452\n",
            "_________________________________________________________________\n"
          ],
          "name": "stdout"
        }
      ]
    },
    {
      "cell_type": "code",
      "metadata": {
        "id": "bEo61PHpzDtJ",
        "colab_type": "code",
        "colab": {}
      },
      "source": [
        "my_cnn_dropout_batchnormalization.compile(loss='categorical_crossentropy', optimizer='adam',metrics=['categorical_accuracy'])"
      ],
      "execution_count": 0,
      "outputs": []
    },
    {
      "cell_type": "code",
      "metadata": {
        "id": "37L1MfwR0jn5",
        "colab_type": "code",
        "outputId": "b3685b44-a1ae-4f29-f782-a5c05b2282c1",
        "colab": {
          "base_uri": "https://localhost:8080/",
          "height": 1714
        }
      },
      "source": [
        "better_history=my_cnn_dropout_batchnormalization.fit(x=x_train, y=y_train, validation_split=(0.2), batch_size=200, epochs=50, verbose=1)"
      ],
      "execution_count": 0,
      "outputs": [
        {
          "output_type": "stream",
          "text": [
            "Train on 40000 samples, validate on 10000 samples\n",
            "Epoch 1/50\n",
            "40000/40000 [==============================] - 5s 130us/step - loss: 2.9208 - categorical_accuracy: 0.3360 - val_loss: 2.3870 - val_categorical_accuracy: 0.3918\n",
            "Epoch 2/50\n",
            "40000/40000 [==============================] - 4s 103us/step - loss: 2.1048 - categorical_accuracy: 0.4295 - val_loss: 1.8716 - val_categorical_accuracy: 0.4695\n",
            "Epoch 3/50\n",
            "40000/40000 [==============================] - 4s 103us/step - loss: 1.7931 - categorical_accuracy: 0.4621 - val_loss: 1.7034 - val_categorical_accuracy: 0.4818\n",
            "Epoch 4/50\n",
            "40000/40000 [==============================] - 4s 103us/step - loss: 1.6557 - categorical_accuracy: 0.4873 - val_loss: 1.5176 - val_categorical_accuracy: 0.5340\n",
            "Epoch 5/50\n",
            "40000/40000 [==============================] - 4s 103us/step - loss: 1.5884 - categorical_accuracy: 0.4969 - val_loss: 1.5145 - val_categorical_accuracy: 0.5256\n",
            "Epoch 6/50\n",
            "40000/40000 [==============================] - 4s 103us/step - loss: 1.5424 - categorical_accuracy: 0.5105 - val_loss: 1.4617 - val_categorical_accuracy: 0.5430\n",
            "Epoch 7/50\n",
            "40000/40000 [==============================] - 4s 103us/step - loss: 1.5212 - categorical_accuracy: 0.5165 - val_loss: 1.4860 - val_categorical_accuracy: 0.5401\n",
            "Epoch 8/50\n",
            "40000/40000 [==============================] - 4s 103us/step - loss: 1.4986 - categorical_accuracy: 0.5274 - val_loss: 1.5035 - val_categorical_accuracy: 0.5356\n",
            "Epoch 9/50\n",
            "40000/40000 [==============================] - 4s 103us/step - loss: 1.4927 - categorical_accuracy: 0.5240 - val_loss: 1.4243 - val_categorical_accuracy: 0.5505\n",
            "Epoch 10/50\n",
            "40000/40000 [==============================] - 4s 103us/step - loss: 1.4869 - categorical_accuracy: 0.5254 - val_loss: 1.3731 - val_categorical_accuracy: 0.5707\n",
            "Epoch 11/50\n",
            "40000/40000 [==============================] - 4s 103us/step - loss: 1.4706 - categorical_accuracy: 0.5328 - val_loss: 1.3726 - val_categorical_accuracy: 0.5675\n",
            "Epoch 12/50\n",
            "40000/40000 [==============================] - 4s 103us/step - loss: 1.4620 - categorical_accuracy: 0.5358 - val_loss: 1.4036 - val_categorical_accuracy: 0.5588\n",
            "Epoch 13/50\n",
            "40000/40000 [==============================] - 4s 103us/step - loss: 1.4585 - categorical_accuracy: 0.5352 - val_loss: 1.4105 - val_categorical_accuracy: 0.5572\n",
            "Epoch 14/50\n",
            "40000/40000 [==============================] - 4s 103us/step - loss: 1.4451 - categorical_accuracy: 0.5417 - val_loss: 1.3312 - val_categorical_accuracy: 0.5857\n",
            "Epoch 15/50\n",
            "40000/40000 [==============================] - 4s 103us/step - loss: 1.4377 - categorical_accuracy: 0.5428 - val_loss: 1.3644 - val_categorical_accuracy: 0.5729\n",
            "Epoch 16/50\n",
            "40000/40000 [==============================] - 4s 104us/step - loss: 1.4322 - categorical_accuracy: 0.5500 - val_loss: 1.3759 - val_categorical_accuracy: 0.5765\n",
            "Epoch 17/50\n",
            "40000/40000 [==============================] - 4s 103us/step - loss: 1.4279 - categorical_accuracy: 0.5501 - val_loss: 1.3470 - val_categorical_accuracy: 0.5765\n",
            "Epoch 18/50\n",
            "40000/40000 [==============================] - 4s 103us/step - loss: 1.4134 - categorical_accuracy: 0.5553 - val_loss: 1.3352 - val_categorical_accuracy: 0.5882\n",
            "Epoch 19/50\n",
            "40000/40000 [==============================] - 4s 103us/step - loss: 1.4145 - categorical_accuracy: 0.5582 - val_loss: 1.3710 - val_categorical_accuracy: 0.5749\n",
            "Epoch 20/50\n",
            "40000/40000 [==============================] - 4s 103us/step - loss: 1.4048 - categorical_accuracy: 0.5585 - val_loss: 1.2956 - val_categorical_accuracy: 0.6023\n",
            "Epoch 21/50\n",
            "40000/40000 [==============================] - 4s 102us/step - loss: 1.4009 - categorical_accuracy: 0.5581 - val_loss: 1.2818 - val_categorical_accuracy: 0.6066\n",
            "Epoch 22/50\n",
            "40000/40000 [==============================] - 4s 103us/step - loss: 1.3976 - categorical_accuracy: 0.5610 - val_loss: 1.2842 - val_categorical_accuracy: 0.6109\n",
            "Epoch 23/50\n",
            "40000/40000 [==============================] - 4s 104us/step - loss: 1.3959 - categorical_accuracy: 0.5627 - val_loss: 1.6797 - val_categorical_accuracy: 0.4679\n",
            "Epoch 24/50\n",
            "40000/40000 [==============================] - 4s 103us/step - loss: 1.3882 - categorical_accuracy: 0.5628 - val_loss: 1.4089 - val_categorical_accuracy: 0.5650\n",
            "Epoch 25/50\n",
            "40000/40000 [==============================] - 4s 103us/step - loss: 1.3863 - categorical_accuracy: 0.5701 - val_loss: 1.3624 - val_categorical_accuracy: 0.5828\n",
            "Epoch 26/50\n",
            "40000/40000 [==============================] - 4s 103us/step - loss: 1.3781 - categorical_accuracy: 0.5704 - val_loss: 1.4352 - val_categorical_accuracy: 0.5565\n",
            "Epoch 27/50\n",
            "40000/40000 [==============================] - 4s 101us/step - loss: 1.3836 - categorical_accuracy: 0.5666 - val_loss: 1.2750 - val_categorical_accuracy: 0.6136\n",
            "Epoch 28/50\n",
            "40000/40000 [==============================] - 4s 102us/step - loss: 1.3801 - categorical_accuracy: 0.5722 - val_loss: 1.5657 - val_categorical_accuracy: 0.5239\n",
            "Epoch 29/50\n",
            "40000/40000 [==============================] - 4s 103us/step - loss: 1.3789 - categorical_accuracy: 0.5690 - val_loss: 1.4447 - val_categorical_accuracy: 0.5535\n",
            "Epoch 30/50\n",
            "40000/40000 [==============================] - 4s 103us/step - loss: 1.3776 - categorical_accuracy: 0.5689 - val_loss: 1.5217 - val_categorical_accuracy: 0.5297\n",
            "Epoch 31/50\n",
            "40000/40000 [==============================] - 4s 102us/step - loss: 1.3776 - categorical_accuracy: 0.5733 - val_loss: 1.3968 - val_categorical_accuracy: 0.5703\n",
            "Epoch 32/50\n",
            "40000/40000 [==============================] - 4s 103us/step - loss: 1.3735 - categorical_accuracy: 0.5725 - val_loss: 1.2289 - val_categorical_accuracy: 0.6337\n",
            "Epoch 33/50\n",
            "40000/40000 [==============================] - 4s 103us/step - loss: 1.3711 - categorical_accuracy: 0.5712 - val_loss: 1.2299 - val_categorical_accuracy: 0.6261\n",
            "Epoch 34/50\n",
            "40000/40000 [==============================] - 4s 103us/step - loss: 1.3655 - categorical_accuracy: 0.5770 - val_loss: 1.3161 - val_categorical_accuracy: 0.5951\n",
            "Epoch 35/50\n",
            "40000/40000 [==============================] - 4s 102us/step - loss: 1.3605 - categorical_accuracy: 0.5748 - val_loss: 1.2551 - val_categorical_accuracy: 0.6165\n",
            "Epoch 36/50\n",
            "40000/40000 [==============================] - 4s 102us/step - loss: 1.3636 - categorical_accuracy: 0.5773 - val_loss: 1.3355 - val_categorical_accuracy: 0.5941\n",
            "Epoch 37/50\n",
            "40000/40000 [==============================] - 4s 103us/step - loss: 1.3542 - categorical_accuracy: 0.5785 - val_loss: 1.2979 - val_categorical_accuracy: 0.6036\n",
            "Epoch 38/50\n",
            "40000/40000 [==============================] - 4s 104us/step - loss: 1.3544 - categorical_accuracy: 0.5767 - val_loss: 1.3411 - val_categorical_accuracy: 0.5820\n",
            "Epoch 39/50\n",
            "40000/40000 [==============================] - 4s 102us/step - loss: 1.3594 - categorical_accuracy: 0.5791 - val_loss: 1.3377 - val_categorical_accuracy: 0.5955\n",
            "Epoch 40/50\n",
            "40000/40000 [==============================] - 4s 102us/step - loss: 1.3553 - categorical_accuracy: 0.5772 - val_loss: 1.2664 - val_categorical_accuracy: 0.6140\n",
            "Epoch 41/50\n",
            "40000/40000 [==============================] - 4s 103us/step - loss: 1.3509 - categorical_accuracy: 0.5825 - val_loss: 1.2982 - val_categorical_accuracy: 0.6135\n",
            "Epoch 42/50\n",
            "40000/40000 [==============================] - 4s 103us/step - loss: 1.3511 - categorical_accuracy: 0.5826 - val_loss: 1.2647 - val_categorical_accuracy: 0.6187\n",
            "Epoch 43/50\n",
            "40000/40000 [==============================] - 4s 102us/step - loss: 1.3538 - categorical_accuracy: 0.5815 - val_loss: 1.4760 - val_categorical_accuracy: 0.5404\n",
            "Epoch 44/50\n",
            "40000/40000 [==============================] - 4s 103us/step - loss: 1.3507 - categorical_accuracy: 0.5819 - val_loss: 1.2934 - val_categorical_accuracy: 0.6119\n",
            "Epoch 45/50\n",
            "40000/40000 [==============================] - 4s 103us/step - loss: 1.3519 - categorical_accuracy: 0.5806 - val_loss: 1.3314 - val_categorical_accuracy: 0.6022\n",
            "Epoch 46/50\n",
            "40000/40000 [==============================] - 4s 103us/step - loss: 1.3437 - categorical_accuracy: 0.5832 - val_loss: 1.3040 - val_categorical_accuracy: 0.6067\n",
            "Epoch 47/50\n",
            "40000/40000 [==============================] - 4s 102us/step - loss: 1.3404 - categorical_accuracy: 0.5881 - val_loss: 1.2701 - val_categorical_accuracy: 0.6247\n",
            "Epoch 48/50\n",
            "40000/40000 [==============================] - 4s 102us/step - loss: 1.3547 - categorical_accuracy: 0.5799 - val_loss: 1.4284 - val_categorical_accuracy: 0.5496\n",
            "Epoch 49/50\n",
            "40000/40000 [==============================] - 4s 103us/step - loss: 1.3408 - categorical_accuracy: 0.5846 - val_loss: 1.2027 - val_categorical_accuracy: 0.6370\n",
            "Epoch 50/50\n",
            "40000/40000 [==============================] - 4s 103us/step - loss: 1.3349 - categorical_accuracy: 0.5875 - val_loss: 1.2270 - val_categorical_accuracy: 0.6320\n"
          ],
          "name": "stdout"
        }
      ]
    },
    {
      "cell_type": "code",
      "metadata": {
        "id": "tUeVpU1JzGlt",
        "colab_type": "code",
        "outputId": "afe24e6d-3ec1-4cf3-f70c-c5ce322a39d9",
        "colab": {
          "base_uri": "https://localhost:8080/",
          "height": 34
        }
      },
      "source": [
        "dropout_batchnormalization_test_loss, dropout_batchnormalization_test_accuracy=my_cnn_dropout_batchnormalization.evaluate(x=x_test, y=y_test, batch_size=200)"
      ],
      "execution_count": 0,
      "outputs": [
        {
          "output_type": "stream",
          "text": [
            "10000/10000 [==============================] - 0s 36us/step\n"
          ],
          "name": "stdout"
        }
      ]
    },
    {
      "cell_type": "code",
      "metadata": {
        "id": "1scx9yay0ZE9",
        "colab_type": "code",
        "outputId": "3b6b52df-59dd-4add-dee3-8053dfdb39bc",
        "colab": {
          "base_uri": "https://localhost:8080/",
          "height": 50
        }
      },
      "source": [
        "print('Simple LeNet-5 Accuracy: '+str(simple_test_accuracy*100)+'\\nWith Batch Normalization and Dropout: '+str(dropout_batchnormalization_test_accuracy*100))"
      ],
      "execution_count": 0,
      "outputs": [
        {
          "output_type": "stream",
          "text": [
            "Simple LeNet-5 Accuracy: 53.48999977111817\n",
            "With Batch Normalization and Dropout: 62.55000019073486\n"
          ],
          "name": "stdout"
        }
      ]
    },
    {
      "cell_type": "code",
      "metadata": {
        "id": "tLJGOOIT103-",
        "colab_type": "code",
        "colab": {}
      },
      "source": [
        ""
      ],
      "execution_count": 0,
      "outputs": []
    }
  ]
}